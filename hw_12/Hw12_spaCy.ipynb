{
 "cells": [
  {
   "cell_type": "markdown",
   "source": [
    "## spaCy"
   ],
   "metadata": {
    "collapsed": false
   },
   "id": "b5121013c728adc0"
  },
  {
   "cell_type": "code",
   "outputs": [],
   "source": [
    "with open('data/text.txt', 'r') as file:\n",
    "    text_data = file.read()"
   ],
   "metadata": {
    "collapsed": false,
    "ExecuteTime": {
     "end_time": "2023-12-26T17:09:42.330923Z",
     "start_time": "2023-12-26T17:09:42.327921Z"
    }
   },
   "id": "f4feee204e26b0ec",
   "execution_count": 61
  },
  {
   "cell_type": "code",
   "outputs": [
    {
     "name": "stdout",
     "output_type": "stream",
     "text": [
      "The Orbiter Discovery, OV-103, is considered eligible for listing in the National Register of Historic Places (NRHP) in the context of the U.S. Space Shuttle Program (1969-2011) under Criterion A in the areas of Space Exploration and Transportation and under Criterion C in the area of Engineering. According to Wayne Hale, a flight director from Johnson Space Center, the Space Shuttle orbiter represents a “huge technological leap from expendable rockets and capsules to a reusable, winged, hypersonic, cargo-carrying spacecraft.” In addition, Discovery was vital to the construction of the International Space Station (ISS); she flew thirteen of the thirty-seven total missions flown to the station by a U.S. Space Shuttle. Under Criterion A, Discovery is significant as the oldest of the three extant orbiter vehicles constructed for the Space Shuttle Program (SSP), the longest running American space program to date; she was the third of five orbiters built by NASA. As Hale stated, the Space Shuttle remains “the largest, fastest, winged hypersonic aircraft in history,” having regularly flown at twenty-five times the speed of sound.\n"
     ]
    }
   ],
   "source": [
    "import spacy\n",
    "from spacy.lang.en.stop_words import STOP_WORDS\n",
    "from string import punctuation\n",
    "from heapq import nlargest\n",
    "\n",
    "nlp = spacy.load(\"en_core_web_sm\")\n",
    "\n",
    "def summarize_text(text):\n",
    "    doc = nlp(text)\n",
    "    stopwords = list(STOP_WORDS)\n",
    "    punctuation_plus = punctuation + '\\n'\n",
    "\n",
    "    word_frequencies = {}\n",
    "    for word in doc:\n",
    "        if word.text not in stopwords and word.text not in punctuation_plus:\n",
    "            if word.text not in word_frequencies.keys():\n",
    "                word_frequencies[word.text] = 1\n",
    "            else:\n",
    "                word_frequencies[word.text] += 1\n",
    "\n",
    "    max_frequency = max(word_frequencies.values())\n",
    "\n",
    "    for word in word_frequencies.keys():\n",
    "        word_frequencies[word] = word_frequencies[word]/max_frequency\n",
    "\n",
    "    sentence_tokens = [sent for sent in doc.sents]\n",
    "    sentence_scores = {}\n",
    "    for sent in sentence_tokens:\n",
    "        for word in sent:\n",
    "            if word.text in word_frequencies.keys():\n",
    "                if sent not in sentence_scores.keys():\n",
    "                    sentence_scores[sent] = word_frequencies[word.text]\n",
    "                else:\n",
    "                    sentence_scores[sent] += word_frequencies[word.text]\n",
    "\n",
    "    select_length = int(len(sentence_tokens)*0.3)\n",
    "    summary_sentences = nlargest(select_length, sentence_scores, key=sentence_scores.get)\n",
    "    final_summary = [word.text for word in summary_sentences]\n",
    "    summary = ' '.join(final_summary)\n",
    "\n",
    "    return summary\n",
    "\n",
    "print(summarize_text(text_data))"
   ],
   "metadata": {
    "collapsed": false,
    "ExecuteTime": {
     "end_time": "2023-12-26T17:09:42.581518Z",
     "start_time": "2023-12-26T17:09:42.335670Z"
    }
   },
   "id": "8c2c569181439231",
   "execution_count": 62
  }
 ],
 "metadata": {
  "kernelspec": {
   "display_name": "Python 3",
   "language": "python",
   "name": "python3"
  },
  "language_info": {
   "codemirror_mode": {
    "name": "ipython",
    "version": 2
   },
   "file_extension": ".py",
   "mimetype": "text/x-python",
   "name": "python",
   "nbconvert_exporter": "python",
   "pygments_lexer": "ipython2",
   "version": "2.7.6"
  }
 },
 "nbformat": 4,
 "nbformat_minor": 5
}

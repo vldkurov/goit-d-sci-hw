{
 "cells": [
  {
   "cell_type": "code",
   "execution_count": 4,
   "outputs": [],
   "source": [
    "import os\n",
    "os.environ['TF_CPP_MIN_LOG_LEVEL'] = '2'"
   ],
   "metadata": {
    "collapsed": false,
    "ExecuteTime": {
     "end_time": "2023-12-20T18:00:43.901978Z",
     "start_time": "2023-12-20T18:00:43.899389Z"
    }
   },
   "id": "cbaec21bfbd3810e"
  },
  {
   "cell_type": "code",
   "execution_count": 5,
   "outputs": [],
   "source": [
    "from tensorflow import keras"
   ],
   "metadata": {
    "collapsed": false,
    "ExecuteTime": {
     "end_time": "2023-12-20T18:00:43.912297Z",
     "start_time": "2023-12-20T18:00:43.902308Z"
    }
   },
   "id": "31895e2371a029d5"
  },
  {
   "cell_type": "code",
   "execution_count": 6,
   "id": "initial_id",
   "metadata": {
    "collapsed": true,
    "ExecuteTime": {
     "end_time": "2023-12-20T18:00:44.140062Z",
     "start_time": "2023-12-20T18:00:43.906516Z"
    }
   },
   "outputs": [],
   "source": [
    "# This will load the fashion_mnist dataset\n",
    "\n",
    "fashion_mnist = keras.datasets.fashion_mnist\n",
    "(train_images, train_labels), (test_images, test_labels) = fashion_mnist.load_data()\n",
    "\n",
    "val_size = 10000\n",
    "train_images, val_images = train_images[val_size:], train_images[:val_size]\n",
    "train_labels, val_labels = train_labels[val_size:], train_labels[:val_size]"
   ]
  },
  {
   "cell_type": "code",
   "execution_count": 7,
   "outputs": [],
   "source": [
    "from keras.layers import Dropout\n",
    "from tensorflow.keras import layers\n",
    "\n",
    "model = keras.Sequential([\n",
    "    layers.Conv2D(32, (3, 3), activation='relu', padding='same', input_shape=(28, 28, 1)),\n",
    "    layers.MaxPooling2D((2, 2)),\n",
    "    layers.Conv2D(64, (3, 3), activation='relu', padding='same'),\n",
    "    layers.MaxPooling2D((2, 2)),\n",
    "    layers.Conv2D(128, (3, 3), activation='relu', padding='same'),\n",
    "    layers.MaxPooling2D((2, 2)),\n",
    "    layers.Flatten(),\n",
    "    layers.Dense(512, activation='relu'),\n",
    "    Dropout(0.5),\n",
    "    layers.Dense(256, activation='relu'),\n",
    "    Dropout(0.5),\n",
    "    layers.Dense(10, activation='softmax'),\n",
    "])"
   ],
   "metadata": {
    "collapsed": false,
    "ExecuteTime": {
     "end_time": "2023-12-20T18:00:44.228024Z",
     "start_time": "2023-12-20T18:00:44.141451Z"
    }
   },
   "id": "49a8feae17a6d84a"
  },
  {
   "cell_type": "code",
   "execution_count": 8,
   "outputs": [],
   "source": [
    "model.compile(optimizer=\"adam\", loss=\"sparse_categorical_crossentropy\", metrics=[\"accuracy\"])"
   ],
   "metadata": {
    "collapsed": false,
    "ExecuteTime": {
     "end_time": "2023-12-20T18:00:44.234250Z",
     "start_time": "2023-12-20T18:00:44.231036Z"
    }
   },
   "id": "87eda0075eb727df"
  },
  {
   "cell_type": "code",
   "execution_count": 9,
   "outputs": [
    {
     "name": "stdout",
     "output_type": "stream",
     "text": [
      "Epoch 1/20\n",
      "1563/1563 [==============================] - 20s 13ms/step - loss: 0.6470 - accuracy: 0.7938 - val_loss: 0.3494 - val_accuracy: 0.8720\n",
      "Epoch 2/20\n",
      "1563/1563 [==============================] - 20s 13ms/step - loss: 0.3839 - accuracy: 0.8634 - val_loss: 0.3095 - val_accuracy: 0.8845\n",
      "Epoch 3/20\n",
      "1563/1563 [==============================] - 20s 13ms/step - loss: 0.3431 - accuracy: 0.8768 - val_loss: 0.3208 - val_accuracy: 0.8769\n",
      "Epoch 4/20\n",
      "1563/1563 [==============================] - 19s 12ms/step - loss: 0.3217 - accuracy: 0.8832 - val_loss: 0.2893 - val_accuracy: 0.8970\n",
      "Epoch 5/20\n",
      "1563/1563 [==============================] - 18s 12ms/step - loss: 0.3044 - accuracy: 0.8917 - val_loss: 0.3025 - val_accuracy: 0.8932\n",
      "Epoch 6/20\n",
      "1563/1563 [==============================] - 18s 12ms/step - loss: 0.2970 - accuracy: 0.8949 - val_loss: 0.2885 - val_accuracy: 0.8975\n",
      "Epoch 7/20\n",
      "1563/1563 [==============================] - 19s 12ms/step - loss: 0.2844 - accuracy: 0.8993 - val_loss: 0.2838 - val_accuracy: 0.9001\n",
      "Epoch 8/20\n",
      "1563/1563 [==============================] - 19s 12ms/step - loss: 0.2738 - accuracy: 0.9037 - val_loss: 0.2838 - val_accuracy: 0.9001\n",
      "Epoch 9/20\n",
      "1563/1563 [==============================] - 19s 12ms/step - loss: 0.2702 - accuracy: 0.9037 - val_loss: 0.2717 - val_accuracy: 0.9026\n",
      "Epoch 10/20\n",
      "1563/1563 [==============================] - 19s 12ms/step - loss: 0.2681 - accuracy: 0.9061 - val_loss: 0.2883 - val_accuracy: 0.9024\n",
      "Epoch 11/20\n",
      "1563/1563 [==============================] - 18s 12ms/step - loss: 0.2558 - accuracy: 0.9087 - val_loss: 0.2828 - val_accuracy: 0.8985\n",
      "Epoch 12/20\n",
      "1563/1563 [==============================] - 18s 12ms/step - loss: 0.2529 - accuracy: 0.9111 - val_loss: 0.3055 - val_accuracy: 0.9000\n",
      "Epoch 13/20\n",
      "1563/1563 [==============================] - 19s 12ms/step - loss: 0.2454 - accuracy: 0.9133 - val_loss: 0.2755 - val_accuracy: 0.9017\n",
      "Epoch 14/20\n",
      "1563/1563 [==============================] - 19s 12ms/step - loss: 0.2460 - accuracy: 0.9141 - val_loss: 0.2784 - val_accuracy: 0.9016\n",
      "Epoch 15/20\n",
      "1563/1563 [==============================] - 19s 12ms/step - loss: 0.2406 - accuracy: 0.9149 - val_loss: 0.2879 - val_accuracy: 0.9045\n",
      "Epoch 16/20\n",
      "1563/1563 [==============================] - 19s 12ms/step - loss: 0.2387 - accuracy: 0.9165 - val_loss: 0.2984 - val_accuracy: 0.8961\n",
      "Epoch 17/20\n",
      "1563/1563 [==============================] - 19s 12ms/step - loss: 0.2365 - accuracy: 0.9181 - val_loss: 0.2726 - val_accuracy: 0.9058\n",
      "Epoch 18/20\n",
      "1563/1563 [==============================] - 19s 12ms/step - loss: 0.2324 - accuracy: 0.9200 - val_loss: 0.3261 - val_accuracy: 0.9018\n",
      "Epoch 19/20\n",
      "1563/1563 [==============================] - 19s 12ms/step - loss: 0.2301 - accuracy: 0.9209 - val_loss: 0.3374 - val_accuracy: 0.8952\n",
      "Epoch 20/20\n",
      "1563/1563 [==============================] - 19s 12ms/step - loss: 0.2239 - accuracy: 0.9220 - val_loss: 0.3047 - val_accuracy: 0.9017\n"
     ]
    }
   ],
   "source": [
    "history = model.fit(train_images,\n",
    "                    train_labels,\n",
    "                    epochs=20,\n",
    "                    batch_size=32,\n",
    "                    validation_data=(val_images, val_labels)\n",
    "                    )"
   ],
   "metadata": {
    "collapsed": false,
    "ExecuteTime": {
     "end_time": "2023-12-20T18:07:02.516896Z",
     "start_time": "2023-12-20T18:00:44.247821Z"
    }
   },
   "id": "e7f158e59b918cf0"
  },
  {
   "cell_type": "code",
   "execution_count": 11,
   "outputs": [
    {
     "name": "stdout",
     "output_type": "stream",
     "text": [
      "313/313 [==============================] - 1s 4ms/step - loss: 0.3490 - accuracy: 0.8927\n",
      "Test Loss: 0.34897151589393616\n",
      "Test Accuracy: 0.8927000164985657\n"
     ]
    }
   ],
   "source": [
    "test_loss, test_acc = model.evaluate(test_images, test_labels)\n",
    "print('Test Loss:', test_loss)\n",
    "print('Test Accuracy:', test_acc)"
   ],
   "metadata": {
    "collapsed": false,
    "ExecuteTime": {
     "end_time": "2023-12-20T18:38:47.971403Z",
     "start_time": "2023-12-20T18:38:46.682155Z"
    }
   },
   "id": "e620636a773e1a09"
  },
  {
   "cell_type": "code",
   "execution_count": null,
   "outputs": [],
   "source": [],
   "metadata": {
    "collapsed": false
   },
   "id": "6071b29930139f59"
  }
 ],
 "metadata": {
  "kernelspec": {
   "display_name": "Python 3",
   "language": "python",
   "name": "python3"
  },
  "language_info": {
   "codemirror_mode": {
    "name": "ipython",
    "version": 2
   },
   "file_extension": ".py",
   "mimetype": "text/x-python",
   "name": "python",
   "nbconvert_exporter": "python",
   "pygments_lexer": "ipython2",
   "version": "2.7.6"
  }
 },
 "nbformat": 4,
 "nbformat_minor": 5
}

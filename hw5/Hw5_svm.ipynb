{
 "cells": [
  {
   "cell_type": "code",
   "execution_count": 1,
   "id": "initial_id",
   "metadata": {
    "collapsed": true,
    "ExecuteTime": {
     "end_time": "2023-12-01T17:39:48.646783Z",
     "start_time": "2023-12-01T17:39:48.390496Z"
    }
   },
   "outputs": [],
   "source": [
    "import pandas as pd"
   ]
  },
  {
   "cell_type": "code",
   "execution_count": 2,
   "outputs": [],
   "source": [
    "data_path = './data'"
   ],
   "metadata": {
    "collapsed": false,
    "ExecuteTime": {
     "end_time": "2023-12-01T17:39:48.658528Z",
     "start_time": "2023-12-01T17:39:48.651802Z"
    }
   },
   "id": "bccf9e9147f24382"
  },
  {
   "cell_type": "code",
   "execution_count": 3,
   "outputs": [
    {
     "data": {
      "text/plain": "['running', 'idle', 'walking', 'stairs']"
     },
     "execution_count": 3,
     "metadata": {},
     "output_type": "execute_result"
    }
   ],
   "source": [
    "from os import listdir\n",
    "\n",
    "activities = listdir(data_path)\n",
    "activities"
   ],
   "metadata": {
    "collapsed": false,
    "ExecuteTime": {
     "end_time": "2023-12-01T17:39:48.672418Z",
     "start_time": "2023-12-01T17:39:48.662633Z"
    }
   },
   "id": "d5ade84cadbc8f37"
  },
  {
   "cell_type": "code",
   "execution_count": 4,
   "outputs": [
    {
     "data": {
      "text/plain": "        accelerometer_X  accelerometer_Y  accelerometer_Z Activity\n0              1.757344        -5.875371        -3.878607  running\n1              2.461239        12.986150         1.762132  running\n2             22.682667        22.922087        -1.738190  running\n3             11.875240         4.611233        -8.389283  running\n4             -5.295974         4.783615        -1.273715  running\n...                 ...              ...              ...      ...\n193855        -4.137180        -4.429273        -1.517924   stairs\n193856         1.829170        -9.313444        -0.330400   stairs\n193857        -7.350199       -12.670115        -1.460463   stairs\n193858         3.969586        -6.320692         9.255983   stairs\n193859         1.747767         2.920926         7.910443   stairs\n\n[193860 rows x 4 columns]",
      "text/html": "<div>\n<style scoped>\n    .dataframe tbody tr th:only-of-type {\n        vertical-align: middle;\n    }\n\n    .dataframe tbody tr th {\n        vertical-align: top;\n    }\n\n    .dataframe thead th {\n        text-align: right;\n    }\n</style>\n<table border=\"1\" class=\"dataframe\">\n  <thead>\n    <tr style=\"text-align: right;\">\n      <th></th>\n      <th>accelerometer_X</th>\n      <th>accelerometer_Y</th>\n      <th>accelerometer_Z</th>\n      <th>Activity</th>\n    </tr>\n  </thead>\n  <tbody>\n    <tr>\n      <th>0</th>\n      <td>1.757344</td>\n      <td>-5.875371</td>\n      <td>-3.878607</td>\n      <td>running</td>\n    </tr>\n    <tr>\n      <th>1</th>\n      <td>2.461239</td>\n      <td>12.986150</td>\n      <td>1.762132</td>\n      <td>running</td>\n    </tr>\n    <tr>\n      <th>2</th>\n      <td>22.682667</td>\n      <td>22.922087</td>\n      <td>-1.738190</td>\n      <td>running</td>\n    </tr>\n    <tr>\n      <th>3</th>\n      <td>11.875240</td>\n      <td>4.611233</td>\n      <td>-8.389283</td>\n      <td>running</td>\n    </tr>\n    <tr>\n      <th>4</th>\n      <td>-5.295974</td>\n      <td>4.783615</td>\n      <td>-1.273715</td>\n      <td>running</td>\n    </tr>\n    <tr>\n      <th>...</th>\n      <td>...</td>\n      <td>...</td>\n      <td>...</td>\n      <td>...</td>\n    </tr>\n    <tr>\n      <th>193855</th>\n      <td>-4.137180</td>\n      <td>-4.429273</td>\n      <td>-1.517924</td>\n      <td>stairs</td>\n    </tr>\n    <tr>\n      <th>193856</th>\n      <td>1.829170</td>\n      <td>-9.313444</td>\n      <td>-0.330400</td>\n      <td>stairs</td>\n    </tr>\n    <tr>\n      <th>193857</th>\n      <td>-7.350199</td>\n      <td>-12.670115</td>\n      <td>-1.460463</td>\n      <td>stairs</td>\n    </tr>\n    <tr>\n      <th>193858</th>\n      <td>3.969586</td>\n      <td>-6.320692</td>\n      <td>9.255983</td>\n      <td>stairs</td>\n    </tr>\n    <tr>\n      <th>193859</th>\n      <td>1.747767</td>\n      <td>2.920926</td>\n      <td>7.910443</td>\n      <td>stairs</td>\n    </tr>\n  </tbody>\n</table>\n<p>193860 rows × 4 columns</p>\n</div>"
     },
     "execution_count": 4,
     "metadata": {},
     "output_type": "execute_result"
    }
   ],
   "source": [
    "from os.path import join\n",
    "\n",
    "df = pd.DataFrame()\n",
    "\n",
    "for act in activities:\n",
    "\n",
    "    if '.DS_Store' in act:\n",
    "        continue\n",
    "    path = join(data_path, act)\n",
    "    frames = listdir(path)\n",
    "\n",
    "    for frame in frames:\n",
    "        new_data = pd.read_csv(join(join(path, frame)))\n",
    "        # Label the data with the corresponding activity (walking, idle, running, stairs).\n",
    "        new_data['Activity'] = act\n",
    "        df = pd.concat([df, new_data], ignore_index=True)\n",
    "\n",
    "df"
   ],
   "metadata": {
    "collapsed": false,
    "ExecuteTime": {
     "end_time": "2023-12-01T17:39:55.193526Z",
     "start_time": "2023-12-01T17:39:48.669883Z"
    }
   },
   "id": "d55bb000d1196ec0"
  },
  {
   "cell_type": "code",
   "execution_count": 5,
   "outputs": [
    {
     "data": {
      "text/plain": "(193860, 4)"
     },
     "execution_count": 5,
     "metadata": {},
     "output_type": "execute_result"
    }
   ],
   "source": [
    "df.shape"
   ],
   "metadata": {
    "collapsed": false,
    "ExecuteTime": {
     "end_time": "2023-12-01T17:39:55.197001Z",
     "start_time": "2023-12-01T17:39:55.192621Z"
    }
   },
   "id": "ea37cbf9f25841d8"
  },
  {
   "cell_type": "code",
   "execution_count": 6,
   "outputs": [
    {
     "data": {
      "text/plain": "        accelerometer_X  accelerometer_Y  accelerometer_Z Activity\n0              1.757344        -5.875371        -3.878607  running\n1              2.461239        12.986150         1.762132  running\n2             22.682667        22.922087        -1.738190  running\n3             11.875240         4.611233        -8.389283  running\n4             -5.295974         4.783615        -1.273715  running\n...                 ...              ...              ...      ...\n102235         8.087613         0.665588        -2.346318  running\n102236        -5.712565         4.458004        -1.972822  running\n102237        -1.350330       -12.009315        -0.976834  running\n102238         7.302315        27.633877        12.038046  running\n102239         3.864242        18.555063         4.371813  running\n\n[102240 rows x 4 columns]",
      "text/html": "<div>\n<style scoped>\n    .dataframe tbody tr th:only-of-type {\n        vertical-align: middle;\n    }\n\n    .dataframe tbody tr th {\n        vertical-align: top;\n    }\n\n    .dataframe thead th {\n        text-align: right;\n    }\n</style>\n<table border=\"1\" class=\"dataframe\">\n  <thead>\n    <tr style=\"text-align: right;\">\n      <th></th>\n      <th>accelerometer_X</th>\n      <th>accelerometer_Y</th>\n      <th>accelerometer_Z</th>\n      <th>Activity</th>\n    </tr>\n  </thead>\n  <tbody>\n    <tr>\n      <th>0</th>\n      <td>1.757344</td>\n      <td>-5.875371</td>\n      <td>-3.878607</td>\n      <td>running</td>\n    </tr>\n    <tr>\n      <th>1</th>\n      <td>2.461239</td>\n      <td>12.986150</td>\n      <td>1.762132</td>\n      <td>running</td>\n    </tr>\n    <tr>\n      <th>2</th>\n      <td>22.682667</td>\n      <td>22.922087</td>\n      <td>-1.738190</td>\n      <td>running</td>\n    </tr>\n    <tr>\n      <th>3</th>\n      <td>11.875240</td>\n      <td>4.611233</td>\n      <td>-8.389283</td>\n      <td>running</td>\n    </tr>\n    <tr>\n      <th>4</th>\n      <td>-5.295974</td>\n      <td>4.783615</td>\n      <td>-1.273715</td>\n      <td>running</td>\n    </tr>\n    <tr>\n      <th>...</th>\n      <td>...</td>\n      <td>...</td>\n      <td>...</td>\n      <td>...</td>\n    </tr>\n    <tr>\n      <th>102235</th>\n      <td>8.087613</td>\n      <td>0.665588</td>\n      <td>-2.346318</td>\n      <td>running</td>\n    </tr>\n    <tr>\n      <th>102236</th>\n      <td>-5.712565</td>\n      <td>4.458004</td>\n      <td>-1.972822</td>\n      <td>running</td>\n    </tr>\n    <tr>\n      <th>102237</th>\n      <td>-1.350330</td>\n      <td>-12.009315</td>\n      <td>-0.976834</td>\n      <td>running</td>\n    </tr>\n    <tr>\n      <th>102238</th>\n      <td>7.302315</td>\n      <td>27.633877</td>\n      <td>12.038046</td>\n      <td>running</td>\n    </tr>\n    <tr>\n      <th>102239</th>\n      <td>3.864242</td>\n      <td>18.555063</td>\n      <td>4.371813</td>\n      <td>running</td>\n    </tr>\n  </tbody>\n</table>\n<p>102240 rows × 4 columns</p>\n</div>"
     },
     "execution_count": 6,
     "metadata": {},
     "output_type": "execute_result"
    }
   ],
   "source": [
    "running = df[df['Activity'] == 'running']\n",
    "running"
   ],
   "metadata": {
    "collapsed": false,
    "ExecuteTime": {
     "end_time": "2023-12-01T17:39:55.208162Z",
     "start_time": "2023-12-01T17:39:55.200948Z"
    }
   },
   "id": "afd96de97fb30611"
  },
  {
   "cell_type": "code",
   "execution_count": 7,
   "outputs": [
    {
     "data": {
      "text/plain": "        accelerometer_X  accelerometer_Y  accelerometer_Z Activity\n102240         0.009577         5.937620         7.570466     idle\n102241         0.086191         6.555324         7.785944     idle\n102242         0.004788         6.440403         7.139510     idle\n102243         0.277727         6.430826         7.690176     idle\n102244        -0.047884         6.239290         7.340623     idle\n...                 ...              ...              ...      ...\n133405         0.229843        -0.081403         9.777920     idle\n133406         0.248997        -0.086191         9.777920     idle\n133407         0.215478        -0.057461         9.758766     idle\n133408         0.292093        -0.095768         9.734824     idle\n133409         0.306458        -0.076614         9.739613     idle\n\n[31170 rows x 4 columns]",
      "text/html": "<div>\n<style scoped>\n    .dataframe tbody tr th:only-of-type {\n        vertical-align: middle;\n    }\n\n    .dataframe tbody tr th {\n        vertical-align: top;\n    }\n\n    .dataframe thead th {\n        text-align: right;\n    }\n</style>\n<table border=\"1\" class=\"dataframe\">\n  <thead>\n    <tr style=\"text-align: right;\">\n      <th></th>\n      <th>accelerometer_X</th>\n      <th>accelerometer_Y</th>\n      <th>accelerometer_Z</th>\n      <th>Activity</th>\n    </tr>\n  </thead>\n  <tbody>\n    <tr>\n      <th>102240</th>\n      <td>0.009577</td>\n      <td>5.937620</td>\n      <td>7.570466</td>\n      <td>idle</td>\n    </tr>\n    <tr>\n      <th>102241</th>\n      <td>0.086191</td>\n      <td>6.555324</td>\n      <td>7.785944</td>\n      <td>idle</td>\n    </tr>\n    <tr>\n      <th>102242</th>\n      <td>0.004788</td>\n      <td>6.440403</td>\n      <td>7.139510</td>\n      <td>idle</td>\n    </tr>\n    <tr>\n      <th>102243</th>\n      <td>0.277727</td>\n      <td>6.430826</td>\n      <td>7.690176</td>\n      <td>idle</td>\n    </tr>\n    <tr>\n      <th>102244</th>\n      <td>-0.047884</td>\n      <td>6.239290</td>\n      <td>7.340623</td>\n      <td>idle</td>\n    </tr>\n    <tr>\n      <th>...</th>\n      <td>...</td>\n      <td>...</td>\n      <td>...</td>\n      <td>...</td>\n    </tr>\n    <tr>\n      <th>133405</th>\n      <td>0.229843</td>\n      <td>-0.081403</td>\n      <td>9.777920</td>\n      <td>idle</td>\n    </tr>\n    <tr>\n      <th>133406</th>\n      <td>0.248997</td>\n      <td>-0.086191</td>\n      <td>9.777920</td>\n      <td>idle</td>\n    </tr>\n    <tr>\n      <th>133407</th>\n      <td>0.215478</td>\n      <td>-0.057461</td>\n      <td>9.758766</td>\n      <td>idle</td>\n    </tr>\n    <tr>\n      <th>133408</th>\n      <td>0.292093</td>\n      <td>-0.095768</td>\n      <td>9.734824</td>\n      <td>idle</td>\n    </tr>\n    <tr>\n      <th>133409</th>\n      <td>0.306458</td>\n      <td>-0.076614</td>\n      <td>9.739613</td>\n      <td>idle</td>\n    </tr>\n  </tbody>\n</table>\n<p>31170 rows × 4 columns</p>\n</div>"
     },
     "execution_count": 7,
     "metadata": {},
     "output_type": "execute_result"
    }
   ],
   "source": [
    "idle = df[df['Activity'] == 'idle']\n",
    "idle"
   ],
   "metadata": {
    "collapsed": false,
    "ExecuteTime": {
     "end_time": "2023-12-01T17:39:55.233190Z",
     "start_time": "2023-12-01T17:39:55.212061Z"
    }
   },
   "id": "6282117374dfd758"
  },
  {
   "cell_type": "code",
   "execution_count": 8,
   "outputs": [
    {
     "data": {
      "text/plain": "        accelerometer_X  accelerometer_Y  accelerometer_Z Activity\n133410         0.914585       -10.975020        -0.167594  walking\n133411        -6.497863       -18.291700        -3.773262  walking\n133412       -10.103531       -11.851298         3.414132  walking\n133413       -13.690045       -25.866955        -3.150769  walking\n133414       -12.703634       -12.234370        -1.331176  walking\n...                 ...              ...              ...      ...\n188905        -1.877054        -9.428367        -2.499546  walking\n188906       -10.093954       -13.819332        -1.192312  walking\n188907        -0.919373        -2.030283        22.634783  walking\n188908         0.201113       -12.531252         0.383072  walking\n188909       -14.188039       -19.895817       -11.219229  walking\n\n[55500 rows x 4 columns]",
      "text/html": "<div>\n<style scoped>\n    .dataframe tbody tr th:only-of-type {\n        vertical-align: middle;\n    }\n\n    .dataframe tbody tr th {\n        vertical-align: top;\n    }\n\n    .dataframe thead th {\n        text-align: right;\n    }\n</style>\n<table border=\"1\" class=\"dataframe\">\n  <thead>\n    <tr style=\"text-align: right;\">\n      <th></th>\n      <th>accelerometer_X</th>\n      <th>accelerometer_Y</th>\n      <th>accelerometer_Z</th>\n      <th>Activity</th>\n    </tr>\n  </thead>\n  <tbody>\n    <tr>\n      <th>133410</th>\n      <td>0.914585</td>\n      <td>-10.975020</td>\n      <td>-0.167594</td>\n      <td>walking</td>\n    </tr>\n    <tr>\n      <th>133411</th>\n      <td>-6.497863</td>\n      <td>-18.291700</td>\n      <td>-3.773262</td>\n      <td>walking</td>\n    </tr>\n    <tr>\n      <th>133412</th>\n      <td>-10.103531</td>\n      <td>-11.851298</td>\n      <td>3.414132</td>\n      <td>walking</td>\n    </tr>\n    <tr>\n      <th>133413</th>\n      <td>-13.690045</td>\n      <td>-25.866955</td>\n      <td>-3.150769</td>\n      <td>walking</td>\n    </tr>\n    <tr>\n      <th>133414</th>\n      <td>-12.703634</td>\n      <td>-12.234370</td>\n      <td>-1.331176</td>\n      <td>walking</td>\n    </tr>\n    <tr>\n      <th>...</th>\n      <td>...</td>\n      <td>...</td>\n      <td>...</td>\n      <td>...</td>\n    </tr>\n    <tr>\n      <th>188905</th>\n      <td>-1.877054</td>\n      <td>-9.428367</td>\n      <td>-2.499546</td>\n      <td>walking</td>\n    </tr>\n    <tr>\n      <th>188906</th>\n      <td>-10.093954</td>\n      <td>-13.819332</td>\n      <td>-1.192312</td>\n      <td>walking</td>\n    </tr>\n    <tr>\n      <th>188907</th>\n      <td>-0.919373</td>\n      <td>-2.030283</td>\n      <td>22.634783</td>\n      <td>walking</td>\n    </tr>\n    <tr>\n      <th>188908</th>\n      <td>0.201113</td>\n      <td>-12.531252</td>\n      <td>0.383072</td>\n      <td>walking</td>\n    </tr>\n    <tr>\n      <th>188909</th>\n      <td>-14.188039</td>\n      <td>-19.895817</td>\n      <td>-11.219229</td>\n      <td>walking</td>\n    </tr>\n  </tbody>\n</table>\n<p>55500 rows × 4 columns</p>\n</div>"
     },
     "execution_count": 8,
     "metadata": {},
     "output_type": "execute_result"
    }
   ],
   "source": [
    "walking = df[df['Activity'] == 'walking']\n",
    "walking"
   ],
   "metadata": {
    "collapsed": false,
    "ExecuteTime": {
     "end_time": "2023-12-01T17:39:55.269940Z",
     "start_time": "2023-12-01T17:39:55.223082Z"
    }
   },
   "id": "b2646c3418e3392d"
  },
  {
   "cell_type": "code",
   "execution_count": 9,
   "outputs": [
    {
     "data": {
      "text/plain": "        accelerometer_X  accelerometer_Y  accelerometer_Z Activity\n188910         3.907337        -4.984728        -3.821146   stairs\n188911         0.354342        -9.567230        -5.770026   stairs\n188912         0.991200       -10.290278        -5.099649   stairs\n188913        -2.389413       -12.220005        -6.330269   stairs\n188914        -1.786074       -18.737022         6.244078   stairs\n...                 ...              ...              ...      ...\n193855        -4.137180        -4.429273        -1.517924   stairs\n193856         1.829170        -9.313444        -0.330400   stairs\n193857        -7.350199       -12.670115        -1.460463   stairs\n193858         3.969586        -6.320692         9.255983   stairs\n193859         1.747767         2.920926         7.910443   stairs\n\n[4950 rows x 4 columns]",
      "text/html": "<div>\n<style scoped>\n    .dataframe tbody tr th:only-of-type {\n        vertical-align: middle;\n    }\n\n    .dataframe tbody tr th {\n        vertical-align: top;\n    }\n\n    .dataframe thead th {\n        text-align: right;\n    }\n</style>\n<table border=\"1\" class=\"dataframe\">\n  <thead>\n    <tr style=\"text-align: right;\">\n      <th></th>\n      <th>accelerometer_X</th>\n      <th>accelerometer_Y</th>\n      <th>accelerometer_Z</th>\n      <th>Activity</th>\n    </tr>\n  </thead>\n  <tbody>\n    <tr>\n      <th>188910</th>\n      <td>3.907337</td>\n      <td>-4.984728</td>\n      <td>-3.821146</td>\n      <td>stairs</td>\n    </tr>\n    <tr>\n      <th>188911</th>\n      <td>0.354342</td>\n      <td>-9.567230</td>\n      <td>-5.770026</td>\n      <td>stairs</td>\n    </tr>\n    <tr>\n      <th>188912</th>\n      <td>0.991200</td>\n      <td>-10.290278</td>\n      <td>-5.099649</td>\n      <td>stairs</td>\n    </tr>\n    <tr>\n      <th>188913</th>\n      <td>-2.389413</td>\n      <td>-12.220005</td>\n      <td>-6.330269</td>\n      <td>stairs</td>\n    </tr>\n    <tr>\n      <th>188914</th>\n      <td>-1.786074</td>\n      <td>-18.737022</td>\n      <td>6.244078</td>\n      <td>stairs</td>\n    </tr>\n    <tr>\n      <th>...</th>\n      <td>...</td>\n      <td>...</td>\n      <td>...</td>\n      <td>...</td>\n    </tr>\n    <tr>\n      <th>193855</th>\n      <td>-4.137180</td>\n      <td>-4.429273</td>\n      <td>-1.517924</td>\n      <td>stairs</td>\n    </tr>\n    <tr>\n      <th>193856</th>\n      <td>1.829170</td>\n      <td>-9.313444</td>\n      <td>-0.330400</td>\n      <td>stairs</td>\n    </tr>\n    <tr>\n      <th>193857</th>\n      <td>-7.350199</td>\n      <td>-12.670115</td>\n      <td>-1.460463</td>\n      <td>stairs</td>\n    </tr>\n    <tr>\n      <th>193858</th>\n      <td>3.969586</td>\n      <td>-6.320692</td>\n      <td>9.255983</td>\n      <td>stairs</td>\n    </tr>\n    <tr>\n      <th>193859</th>\n      <td>1.747767</td>\n      <td>2.920926</td>\n      <td>7.910443</td>\n      <td>stairs</td>\n    </tr>\n  </tbody>\n</table>\n<p>4950 rows × 4 columns</p>\n</div>"
     },
     "execution_count": 9,
     "metadata": {},
     "output_type": "execute_result"
    }
   ],
   "source": [
    "stairs = df[df['Activity'] == 'stairs']\n",
    "stairs"
   ],
   "metadata": {
    "collapsed": false,
    "ExecuteTime": {
     "end_time": "2023-12-01T17:39:55.274422Z",
     "start_time": "2023-12-01T17:39:55.233983Z"
    }
   },
   "id": "db752a3f2e3ec267"
  },
  {
   "cell_type": "code",
   "execution_count": 10,
   "outputs": [],
   "source": [
    "# Create a sample of the DataFrame with the same rows but in random order\n",
    "df = df.sample(frac=1, random_state=42)\n",
    "df = df.reset_index(drop=True)"
   ],
   "metadata": {
    "collapsed": false,
    "ExecuteTime": {
     "end_time": "2023-12-01T17:39:55.276616Z",
     "start_time": "2023-12-01T17:39:55.240842Z"
    }
   },
   "id": "dab7bcb400467d45"
  },
  {
   "cell_type": "markdown",
   "source": [
    "### Preprocess the Data"
   ],
   "metadata": {
    "collapsed": false
   },
   "id": "39e6c587d34dd756"
  },
  {
   "cell_type": "code",
   "execution_count": 11,
   "outputs": [],
   "source": [
    "from sklearn.model_selection import train_test_split\n",
    "\n",
    "# Separate features (X) and labels (y)\n",
    "X = df.drop('Activity', axis=1)\n",
    "y = df['Activity']\n",
    "\n",
    "# Split the data into training and testing sets\n",
    "X_train, X_test, y_train, y_test = train_test_split(X, y, test_size=0.2, random_state=42)"
   ],
   "metadata": {
    "collapsed": false,
    "ExecuteTime": {
     "end_time": "2023-12-01T17:39:55.597391Z",
     "start_time": "2023-12-01T17:39:55.250001Z"
    }
   },
   "id": "172561f9cb2d28a4"
  },
  {
   "cell_type": "markdown",
   "source": [
    "### Create an SVM classifier"
   ],
   "metadata": {
    "collapsed": false
   },
   "id": "d655c117041c5af6"
  },
  {
   "cell_type": "code",
   "execution_count": 12,
   "outputs": [
    {
     "name": "stderr",
     "output_type": "stream",
     "text": [
      "/Users/vokur/anaconda3/envs/goit-d-sci-hw/lib/python3.11/site-packages/sklearn/utils/validation.py:767: FutureWarning: is_sparse is deprecated and will be removed in a future version. Check `isinstance(dtype, pd.SparseDtype)` instead.\n",
      "  if not hasattr(array, \"sparse\") and array.dtypes.apply(is_sparse).any():\n",
      "/Users/vokur/anaconda3/envs/goit-d-sci-hw/lib/python3.11/site-packages/sklearn/utils/validation.py:605: FutureWarning: is_sparse is deprecated and will be removed in a future version. Check `isinstance(dtype, pd.SparseDtype)` instead.\n",
      "  if is_sparse(pd_dtype):\n",
      "/Users/vokur/anaconda3/envs/goit-d-sci-hw/lib/python3.11/site-packages/sklearn/utils/validation.py:614: FutureWarning: is_sparse is deprecated and will be removed in a future version. Check `isinstance(dtype, pd.SparseDtype)` instead.\n",
      "  if is_sparse(pd_dtype) or not is_extension_array_dtype(pd_dtype):\n",
      "/Users/vokur/anaconda3/envs/goit-d-sci-hw/lib/python3.11/site-packages/sklearn/utils/validation.py:605: FutureWarning: is_sparse is deprecated and will be removed in a future version. Check `isinstance(dtype, pd.SparseDtype)` instead.\n",
      "  if is_sparse(pd_dtype):\n",
      "/Users/vokur/anaconda3/envs/goit-d-sci-hw/lib/python3.11/site-packages/sklearn/utils/validation.py:614: FutureWarning: is_sparse is deprecated and will be removed in a future version. Check `isinstance(dtype, pd.SparseDtype)` instead.\n",
      "  if is_sparse(pd_dtype) or not is_extension_array_dtype(pd_dtype):\n"
     ]
    },
    {
     "data": {
      "text/plain": "SVC()",
      "text/html": "<style>#sk-container-id-1 {color: black;background-color: white;}#sk-container-id-1 pre{padding: 0;}#sk-container-id-1 div.sk-toggleable {background-color: white;}#sk-container-id-1 label.sk-toggleable__label {cursor: pointer;display: block;width: 100%;margin-bottom: 0;padding: 0.3em;box-sizing: border-box;text-align: center;}#sk-container-id-1 label.sk-toggleable__label-arrow:before {content: \"▸\";float: left;margin-right: 0.25em;color: #696969;}#sk-container-id-1 label.sk-toggleable__label-arrow:hover:before {color: black;}#sk-container-id-1 div.sk-estimator:hover label.sk-toggleable__label-arrow:before {color: black;}#sk-container-id-1 div.sk-toggleable__content {max-height: 0;max-width: 0;overflow: hidden;text-align: left;background-color: #f0f8ff;}#sk-container-id-1 div.sk-toggleable__content pre {margin: 0.2em;color: black;border-radius: 0.25em;background-color: #f0f8ff;}#sk-container-id-1 input.sk-toggleable__control:checked~div.sk-toggleable__content {max-height: 200px;max-width: 100%;overflow: auto;}#sk-container-id-1 input.sk-toggleable__control:checked~label.sk-toggleable__label-arrow:before {content: \"▾\";}#sk-container-id-1 div.sk-estimator input.sk-toggleable__control:checked~label.sk-toggleable__label {background-color: #d4ebff;}#sk-container-id-1 div.sk-label input.sk-toggleable__control:checked~label.sk-toggleable__label {background-color: #d4ebff;}#sk-container-id-1 input.sk-hidden--visually {border: 0;clip: rect(1px 1px 1px 1px);clip: rect(1px, 1px, 1px, 1px);height: 1px;margin: -1px;overflow: hidden;padding: 0;position: absolute;width: 1px;}#sk-container-id-1 div.sk-estimator {font-family: monospace;background-color: #f0f8ff;border: 1px dotted black;border-radius: 0.25em;box-sizing: border-box;margin-bottom: 0.5em;}#sk-container-id-1 div.sk-estimator:hover {background-color: #d4ebff;}#sk-container-id-1 div.sk-parallel-item::after {content: \"\";width: 100%;border-bottom: 1px solid gray;flex-grow: 1;}#sk-container-id-1 div.sk-label:hover label.sk-toggleable__label {background-color: #d4ebff;}#sk-container-id-1 div.sk-serial::before {content: \"\";position: absolute;border-left: 1px solid gray;box-sizing: border-box;top: 0;bottom: 0;left: 50%;z-index: 0;}#sk-container-id-1 div.sk-serial {display: flex;flex-direction: column;align-items: center;background-color: white;padding-right: 0.2em;padding-left: 0.2em;position: relative;}#sk-container-id-1 div.sk-item {position: relative;z-index: 1;}#sk-container-id-1 div.sk-parallel {display: flex;align-items: stretch;justify-content: center;background-color: white;position: relative;}#sk-container-id-1 div.sk-item::before, #sk-container-id-1 div.sk-parallel-item::before {content: \"\";position: absolute;border-left: 1px solid gray;box-sizing: border-box;top: 0;bottom: 0;left: 50%;z-index: -1;}#sk-container-id-1 div.sk-parallel-item {display: flex;flex-direction: column;z-index: 1;position: relative;background-color: white;}#sk-container-id-1 div.sk-parallel-item:first-child::after {align-self: flex-end;width: 50%;}#sk-container-id-1 div.sk-parallel-item:last-child::after {align-self: flex-start;width: 50%;}#sk-container-id-1 div.sk-parallel-item:only-child::after {width: 0;}#sk-container-id-1 div.sk-dashed-wrapped {border: 1px dashed gray;margin: 0 0.4em 0.5em 0.4em;box-sizing: border-box;padding-bottom: 0.4em;background-color: white;}#sk-container-id-1 div.sk-label label {font-family: monospace;font-weight: bold;display: inline-block;line-height: 1.2em;}#sk-container-id-1 div.sk-label-container {text-align: center;}#sk-container-id-1 div.sk-container {/* jupyter's `normalize.less` sets `[hidden] { display: none; }` but bootstrap.min.css set `[hidden] { display: none !important; }` so we also need the `!important` here to be able to override the default hidden behavior on the sphinx rendered scikit-learn.org. See: https://github.com/scikit-learn/scikit-learn/issues/21755 */display: inline-block !important;position: relative;}#sk-container-id-1 div.sk-text-repr-fallback {display: none;}</style><div id=\"sk-container-id-1\" class=\"sk-top-container\"><div class=\"sk-text-repr-fallback\"><pre>SVC()</pre><b>In a Jupyter environment, please rerun this cell to show the HTML representation or trust the notebook. <br />On GitHub, the HTML representation is unable to render, please try loading this page with nbviewer.org.</b></div><div class=\"sk-container\" hidden><div class=\"sk-item\"><div class=\"sk-estimator sk-toggleable\"><input class=\"sk-toggleable__control sk-hidden--visually\" id=\"sk-estimator-id-1\" type=\"checkbox\" checked><label for=\"sk-estimator-id-1\" class=\"sk-toggleable__label sk-toggleable__label-arrow\">SVC</label><div class=\"sk-toggleable__content\"><pre>SVC()</pre></div></div></div></div></div>"
     },
     "execution_count": 12,
     "metadata": {},
     "output_type": "execute_result"
    }
   ],
   "source": [
    "from sklearn import svm\n",
    "\n",
    "C = 1.0  # SVM regularization parameter\n",
    "# Create an SVM classifier\n",
    "clf = svm.SVC()\n",
    "# clf = svm.SVC(kernel=\"linear\", C=C)\n",
    "# clf = svm.LinearSVC(C=C, max_iter=10000, dual='auto')\n",
    "# clf = svm.SVC(kernel=\"rbf\", gamma=0.7, C=C)\n",
    "# clf = svm.SVC(kernel=\"poly\", degree=3, gamma=\"auto\", C=C)\n",
    "# clf = svm.SVC(kernel='linear')\n",
    "# clf = svm.SVC(decision_function_shape='ovo', kernel='rbf', gamma=0.005, probability=True)\n",
    "\n",
    "# Train the classifier\n",
    "clf.fit(X_train, y_train)"
   ],
   "metadata": {
    "collapsed": false,
    "ExecuteTime": {
     "end_time": "2023-12-01T17:41:36.553272Z",
     "start_time": "2023-12-01T17:39:55.598269Z"
    }
   },
   "id": "d3e73e37e5f8d5b9"
  },
  {
   "cell_type": "markdown",
   "source": [
    "### Make predictions on the test set"
   ],
   "metadata": {
    "collapsed": false
   },
   "id": "9b666b5a765d5166"
  },
  {
   "cell_type": "code",
   "execution_count": 13,
   "outputs": [
    {
     "name": "stderr",
     "output_type": "stream",
     "text": [
      "/Users/vokur/anaconda3/envs/goit-d-sci-hw/lib/python3.11/site-packages/sklearn/utils/validation.py:767: FutureWarning: is_sparse is deprecated and will be removed in a future version. Check `isinstance(dtype, pd.SparseDtype)` instead.\n",
      "  if not hasattr(array, \"sparse\") and array.dtypes.apply(is_sparse).any():\n",
      "/Users/vokur/anaconda3/envs/goit-d-sci-hw/lib/python3.11/site-packages/sklearn/utils/validation.py:605: FutureWarning: is_sparse is deprecated and will be removed in a future version. Check `isinstance(dtype, pd.SparseDtype)` instead.\n",
      "  if is_sparse(pd_dtype):\n",
      "/Users/vokur/anaconda3/envs/goit-d-sci-hw/lib/python3.11/site-packages/sklearn/utils/validation.py:614: FutureWarning: is_sparse is deprecated and will be removed in a future version. Check `isinstance(dtype, pd.SparseDtype)` instead.\n",
      "  if is_sparse(pd_dtype) or not is_extension_array_dtype(pd_dtype):\n"
     ]
    }
   ],
   "source": [
    "# Make predictions on the test set\n",
    "y_pred = clf.predict(X_test)"
   ],
   "metadata": {
    "collapsed": false,
    "ExecuteTime": {
     "end_time": "2023-12-01T17:42:17.459949Z",
     "start_time": "2023-12-01T17:41:36.554067Z"
    }
   },
   "id": "a4c064e5a2bab95b"
  },
  {
   "cell_type": "markdown",
   "source": [
    "### Evaluate the model"
   ],
   "metadata": {
    "collapsed": false
   },
   "id": "5aa61cb05c4fa7da"
  },
  {
   "cell_type": "code",
   "execution_count": 14,
   "outputs": [
    {
     "name": "stderr",
     "output_type": "stream",
     "text": [
      "/Users/vokur/anaconda3/envs/goit-d-sci-hw/lib/python3.11/site-packages/sklearn/utils/validation.py:605: FutureWarning: is_sparse is deprecated and will be removed in a future version. Check `isinstance(dtype, pd.SparseDtype)` instead.\n",
      "  if is_sparse(pd_dtype):\n",
      "/Users/vokur/anaconda3/envs/goit-d-sci-hw/lib/python3.11/site-packages/sklearn/utils/validation.py:614: FutureWarning: is_sparse is deprecated and will be removed in a future version. Check `isinstance(dtype, pd.SparseDtype)` instead.\n",
      "  if is_sparse(pd_dtype) or not is_extension_array_dtype(pd_dtype):\n",
      "/Users/vokur/anaconda3/envs/goit-d-sci-hw/lib/python3.11/site-packages/sklearn/utils/validation.py:605: FutureWarning: is_sparse is deprecated and will be removed in a future version. Check `isinstance(dtype, pd.SparseDtype)` instead.\n",
      "  if is_sparse(pd_dtype):\n",
      "/Users/vokur/anaconda3/envs/goit-d-sci-hw/lib/python3.11/site-packages/sklearn/utils/validation.py:614: FutureWarning: is_sparse is deprecated and will be removed in a future version. Check `isinstance(dtype, pd.SparseDtype)` instead.\n",
      "  if is_sparse(pd_dtype) or not is_extension_array_dtype(pd_dtype):\n",
      "/Users/vokur/anaconda3/envs/goit-d-sci-hw/lib/python3.11/site-packages/sklearn/utils/validation.py:605: FutureWarning: is_sparse is deprecated and will be removed in a future version. Check `isinstance(dtype, pd.SparseDtype)` instead.\n",
      "  if is_sparse(pd_dtype):\n",
      "/Users/vokur/anaconda3/envs/goit-d-sci-hw/lib/python3.11/site-packages/sklearn/utils/validation.py:614: FutureWarning: is_sparse is deprecated and will be removed in a future version. Check `isinstance(dtype, pd.SparseDtype)` instead.\n",
      "  if is_sparse(pd_dtype) or not is_extension_array_dtype(pd_dtype):\n",
      "/Users/vokur/anaconda3/envs/goit-d-sci-hw/lib/python3.11/site-packages/sklearn/utils/validation.py:605: FutureWarning: is_sparse is deprecated and will be removed in a future version. Check `isinstance(dtype, pd.SparseDtype)` instead.\n",
      "  if is_sparse(pd_dtype):\n",
      "/Users/vokur/anaconda3/envs/goit-d-sci-hw/lib/python3.11/site-packages/sklearn/utils/validation.py:614: FutureWarning: is_sparse is deprecated and will be removed in a future version. Check `isinstance(dtype, pd.SparseDtype)` instead.\n",
      "  if is_sparse(pd_dtype) or not is_extension_array_dtype(pd_dtype):\n",
      "/Users/vokur/anaconda3/envs/goit-d-sci-hw/lib/python3.11/site-packages/sklearn/utils/validation.py:605: FutureWarning: is_sparse is deprecated and will be removed in a future version. Check `isinstance(dtype, pd.SparseDtype)` instead.\n",
      "  if is_sparse(pd_dtype):\n",
      "/Users/vokur/anaconda3/envs/goit-d-sci-hw/lib/python3.11/site-packages/sklearn/utils/validation.py:614: FutureWarning: is_sparse is deprecated and will be removed in a future version. Check `isinstance(dtype, pd.SparseDtype)` instead.\n",
      "  if is_sparse(pd_dtype) or not is_extension_array_dtype(pd_dtype):\n",
      "/Users/vokur/anaconda3/envs/goit-d-sci-hw/lib/python3.11/site-packages/sklearn/utils/validation.py:605: FutureWarning: is_sparse is deprecated and will be removed in a future version. Check `isinstance(dtype, pd.SparseDtype)` instead.\n",
      "  if is_sparse(pd_dtype):\n",
      "/Users/vokur/anaconda3/envs/goit-d-sci-hw/lib/python3.11/site-packages/sklearn/utils/validation.py:614: FutureWarning: is_sparse is deprecated and will be removed in a future version. Check `isinstance(dtype, pd.SparseDtype)` instead.\n",
      "  if is_sparse(pd_dtype) or not is_extension_array_dtype(pd_dtype):\n"
     ]
    },
    {
     "name": "stdout",
     "output_type": "stream",
     "text": [
      "Accuracy: 0.8958268853812029\n",
      "              precision    recall  f1-score   support\n",
      "\n",
      "        idle       0.96      0.99      0.97      6181\n",
      "     running       0.93      0.90      0.92     20579\n",
      "      stairs       1.00      0.00      0.00       985\n",
      "     walking       0.80      0.91      0.85     11027\n",
      "\n",
      "    accuracy                           0.90     38772\n",
      "   macro avg       0.92      0.70      0.69     38772\n",
      "weighted avg       0.90      0.90      0.89     38772\n",
      "\n",
      "[[ 6106    54     0    21]\n",
      " [  242 18619     0  1718]\n",
      " [    6   260     1   718]\n",
      " [   34   986     0 10007]]\n"
     ]
    },
    {
     "name": "stderr",
     "output_type": "stream",
     "text": [
      "/Users/vokur/anaconda3/envs/goit-d-sci-hw/lib/python3.11/site-packages/sklearn/utils/validation.py:605: FutureWarning: is_sparse is deprecated and will be removed in a future version. Check `isinstance(dtype, pd.SparseDtype)` instead.\n",
      "  if is_sparse(pd_dtype):\n",
      "/Users/vokur/anaconda3/envs/goit-d-sci-hw/lib/python3.11/site-packages/sklearn/utils/validation.py:614: FutureWarning: is_sparse is deprecated and will be removed in a future version. Check `isinstance(dtype, pd.SparseDtype)` instead.\n",
      "  if is_sparse(pd_dtype) or not is_extension_array_dtype(pd_dtype):\n",
      "/Users/vokur/anaconda3/envs/goit-d-sci-hw/lib/python3.11/site-packages/sklearn/utils/validation.py:605: FutureWarning: is_sparse is deprecated and will be removed in a future version. Check `isinstance(dtype, pd.SparseDtype)` instead.\n",
      "  if is_sparse(pd_dtype):\n",
      "/Users/vokur/anaconda3/envs/goit-d-sci-hw/lib/python3.11/site-packages/sklearn/utils/validation.py:614: FutureWarning: is_sparse is deprecated and will be removed in a future version. Check `isinstance(dtype, pd.SparseDtype)` instead.\n",
      "  if is_sparse(pd_dtype) or not is_extension_array_dtype(pd_dtype):\n",
      "/Users/vokur/anaconda3/envs/goit-d-sci-hw/lib/python3.11/site-packages/sklearn/utils/validation.py:605: FutureWarning: is_sparse is deprecated and will be removed in a future version. Check `isinstance(dtype, pd.SparseDtype)` instead.\n",
      "  if is_sparse(pd_dtype):\n",
      "/Users/vokur/anaconda3/envs/goit-d-sci-hw/lib/python3.11/site-packages/sklearn/utils/validation.py:614: FutureWarning: is_sparse is deprecated and will be removed in a future version. Check `isinstance(dtype, pd.SparseDtype)` instead.\n",
      "  if is_sparse(pd_dtype) or not is_extension_array_dtype(pd_dtype):\n"
     ]
    }
   ],
   "source": [
    "from sklearn.metrics import accuracy_score, classification_report, confusion_matrix\n",
    "\n",
    "# Evaluate the model\n",
    "accuracy = accuracy_score(y_test, y_pred)\n",
    "print(f\"Accuracy: {accuracy}\")\n",
    "\n",
    "# Display other metrics\n",
    "print(classification_report(y_test, y_pred))\n",
    "print(confusion_matrix(y_test, y_pred))"
   ],
   "metadata": {
    "collapsed": false,
    "ExecuteTime": {
     "end_time": "2023-12-01T17:42:18.029008Z",
     "start_time": "2023-12-01T17:42:17.478874Z"
    }
   },
   "id": "ea59aeca401dfde3"
  }
 ],
 "metadata": {
  "kernelspec": {
   "display_name": "Python 3",
   "language": "python",
   "name": "python3"
  },
  "language_info": {
   "codemirror_mode": {
    "name": "ipython",
    "version": 2
   },
   "file_extension": ".py",
   "mimetype": "text/x-python",
   "name": "python",
   "nbconvert_exporter": "python",
   "pygments_lexer": "ipython2",
   "version": "2.7.6"
  }
 },
 "nbformat": 4,
 "nbformat_minor": 5
}

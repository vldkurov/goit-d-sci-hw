{
 "cells": [
  {
   "cell_type": "markdown",
   "source": [
    "## Housing Linear Regression"
   ],
   "metadata": {
    "collapsed": false
   },
   "id": "586a5ee91dd148e6"
  },
  {
   "cell_type": "code",
   "execution_count": 33,
   "outputs": [
    {
     "name": "stdout",
     "output_type": "stream",
     "text": [
      "Coefficient:\n",
      "            Coefficient\n",
      "area       3.914000e+02\n",
      "bedrooms   4.745661e+05\n",
      "bathrooms  1.415260e+06\n",
      "Mean Absolute Error: 1339111.932553641\n",
      "Mean Squared Error: 1505858701047.998\n"
     ]
    }
   ],
   "source": [
    "from sklearn.linear_model import LinearRegression\n",
    "from sklearn.model_selection import train_test_split, cross_val_score\n",
    "from sklearn.metrics import mean_squared_error\n",
    "import pandas as pd\n",
    "import os\n",
    "\n",
    "DATA_PATH = \"data\"\n",
    "CSV_FILE = 'Housing.csv'\n",
    "TEST_SIZE = 0.2\n",
    "RANDOM_STATE = 0\n",
    "N_JOBS = -1\n",
    "SCORING = 'neg_mean_absolute_error'\n",
    "\n",
    "COLUMN_AREA = 'area'\n",
    "COLUMN_BEDROOMS = 'bedrooms'\n",
    "COLUMN_BATHROOMS = 'bathrooms'\n",
    "COLUMN_PRICE = 'price'\n",
    "COLUMN_NAMES = [COLUMN_AREA, COLUMN_BEDROOMS, COLUMN_BATHROOMS]\n",
    "TARGET_COLUMN = COLUMN_PRICE\n",
    "\n",
    "\n",
    "def load_data(path, filename):\n",
    "    return pd.read_csv(os.path.join(path, filename)).iloc[:, :4]\n",
    "\n",
    "\n",
    "def preprocess_data(df):\n",
    "    X = df[COLUMN_NAMES]\n",
    "    Y = df[TARGET_COLUMN]\n",
    "    X_train, X_test, Y_train, Y_test = train_test_split(X, Y, test_size=TEST_SIZE, random_state=RANDOM_STATE)\n",
    "    return X_train, X_test, Y_train, Y_test\n",
    "\n",
    "\n",
    "def train_model(X_train, Y_train):\n",
    "    model = LinearRegression()\n",
    "    model.fit(X_train, Y_train)\n",
    "    return model\n",
    "\n",
    "\n",
    "def evaluate_model(model, X, Y, X_test, Y_test):\n",
    "    y_pred = model.predict(X_test)\n",
    "    n_scores = cross_val_score(model, X, Y, scoring=SCORING, cv=5, n_jobs=N_JOBS)\n",
    "    n_scores = abs(n_scores)\n",
    "    mse = mean_squared_error(Y_test, y_pred)\n",
    "    coef_df = pd.DataFrame(model.coef_, X.columns, columns=['Coefficient'])\n",
    "    return n_scores, mse, coef_df\n",
    "\n",
    "\n",
    "df = load_data(DATA_PATH, CSV_FILE)\n",
    "X_train, X_test, Y_train, Y_test = preprocess_data(df)\n",
    "model = train_model(X_train, Y_train)\n",
    "n_scores, mse, coef_df = evaluate_model(model, df[COLUMN_NAMES], df[TARGET_COLUMN], X_test, Y_test)\n",
    "\n",
    "print('Coefficient:')\n",
    "print(coef_df)\n",
    "print('Mean Absolute Error:', n_scores.mean())\n",
    "print('Mean Squared Error:', mse)"
   ],
   "metadata": {
    "collapsed": false,
    "ExecuteTime": {
     "end_time": "2023-12-13T13:07:20.295965Z",
     "start_time": "2023-12-13T13:07:19.325689Z"
    }
   },
   "id": "71355b67ce9b91f2"
  },
  {
   "cell_type": "markdown",
   "source": [
    "## Housing Matrix Factorization Algorithm"
   ],
   "metadata": {
    "collapsed": false
   },
   "id": "5131614a3c8420c1"
  },
  {
   "cell_type": "code",
   "execution_count": 34,
   "outputs": [
    {
     "name": "stdout",
     "output_type": "stream",
     "text": [
      "Evaluating RMSE, MAE of algorithm SVD on 5 split(s).\n",
      "\n",
      "                  Fold 1  Fold 2  Fold 3  Fold 4  Fold 5  Mean    Std     \n",
      "RMSE (testset)    7831040.87367274550.09908206922.10018352142.54338788655.13678090662.1505510396.8394\n",
      "MAE (testset)     7056719.40166340155.55957682085.17897854680.01818474273.48947481582.7295727764.0546\n",
      "Fit time          0.00    0.00    0.00    0.00    0.00    0.00    0.00    \n",
      "Test time         0.00    0.00    0.00    0.00    0.00    0.00    0.00    \n"
     ]
    },
    {
     "data": {
      "text/plain": "{'test_rmse': array([7831040.87356441, 7274550.0989817 , 8206922.10011918,\n        8352142.5432877 , 8788655.13670524]),\n 'test_mae': array([7056719.40156553, 6340155.55950678, 7682085.178857  ,\n        7854680.01809612, 8474273.48939483]),\n 'fit_time': (0.0028066635131835938,\n  0.002805948257446289,\n  0.0025482177734375,\n  0.0025708675384521484,\n  0.002521991729736328),\n 'test_time': (0.0005440711975097656,\n  0.00021004676818847656,\n  0.0001499652862548828,\n  0.00014495849609375,\n  0.00014209747314453125)}"
     },
     "execution_count": 34,
     "metadata": {},
     "output_type": "execute_result"
    }
   ],
   "source": [
    "from surprise import SVD\n",
    "from surprise import Dataset\n",
    "from surprise import Reader\n",
    "from surprise.model_selection import cross_validate\n",
    "\n",
    "def load_data(path, filename):\n",
    "    return pd.read_csv(os.path.join(path, filename)).iloc[:, :4]\n",
    "\n",
    "# Load data\n",
    "data = load_data(DATA_PATH, CSV_FILE)\n",
    "\n",
    "# We'll use the famous SVD algorithm.\n",
    "algo = SVD()\n",
    "\n",
    "# A consumer is needed as a housing buyer but only the rating_scale param is required.\n",
    "consumer = Reader(rating_scale=(data[COLUMN_PRICE].min(), data[COLUMN_PRICE].max()))\n",
    "\n",
    "# Prepare the data to be used in Surprise\n",
    "data[COLUMN_AREA] = data[COLUMN_AREA].astype(str)\n",
    "data[COLUMN_BEDROOMS] = data[COLUMN_BEDROOMS].astype(str)\n",
    "data[COLUMN_BATHROOMS] = data[COLUMN_BATHROOMS].astype(str)\n",
    "\n",
    "# Combine house characteristics to make a unique user for each house\n",
    "data['user'] = data[[COLUMN_AREA, COLUMN_BEDROOMS, COLUMN_BATHROOMS]].apply(lambda x: '_'.join(x), axis=1)\n",
    "\n",
    "# Use price as the item (each instance of a price treated as a separate item)\n",
    "data['item'] = data[COLUMN_PRICE]\n",
    "\n",
    "# Here we treat area, bedrooms and bathrooms(curated as 'user') as users and price as items\n",
    "data = Dataset.load_from_df(data[['user', 'item', COLUMN_PRICE]], consumer)\n",
    "\n",
    "# Run 5-fold cross-validation and print results\n",
    "cross_validate(algo, data, measures=['RMSE', 'MAE'], cv=5, verbose=True)"
   ],
   "metadata": {
    "collapsed": false,
    "ExecuteTime": {
     "end_time": "2023-12-13T13:07:20.329703Z",
     "start_time": "2023-12-13T13:07:20.297643Z"
    }
   },
   "id": "c0a5dc33996b8e1a"
  },
  {
   "cell_type": "markdown",
   "source": [
    "### Conclusion\n",
    "Последний расчет представляет собой нетрадиционное применение матричной факторизации с использованием набора данных о жилье. В этом подходе рассматриваю атрибуты дома (т. е. площадь, спальни и ванные комнаты) как «users», а цены на дома как «items», чтобы сформировать матрицу, которая обрабатывалась бы с использованием алгоритма разложения по сингулярным значениям (SVD) из библиотеки surprise.\n",
    "\n",
    "Производительность алгоритма SVD оценивалась с использованием среднеквадратической ошибки (RMSE) и средней абсолютной ошибки (MAE) в качестве показателей, а результаты предоставлялись функцией cross_validate. Эти результаты представляют собой 5-кратную перекрестную проверку и будут варьироваться в зависимости от данных.\n",
    "\n",
    "Однако важно отметить, что такое применение матричной факторизации является нетипичным и может не дать значимой интерпретации в реальном сценарии."
   ],
   "metadata": {
    "collapsed": false
   },
   "id": "7944a12f8187b3c5"
  },
  {
   "cell_type": "code",
   "execution_count": 34,
   "outputs": [],
   "source": [],
   "metadata": {
    "collapsed": false,
    "ExecuteTime": {
     "end_time": "2023-12-13T13:07:20.330032Z",
     "start_time": "2023-12-13T13:07:20.321620Z"
    }
   },
   "id": "ef48a78baa334aad"
  }
 ],
 "metadata": {
  "kernelspec": {
   "display_name": "Python 3",
   "language": "python",
   "name": "python3"
  },
  "language_info": {
   "codemirror_mode": {
    "name": "ipython",
    "version": 2
   },
   "file_extension": ".py",
   "mimetype": "text/x-python",
   "name": "python",
   "nbconvert_exporter": "python",
   "pygments_lexer": "ipython2",
   "version": "2.7.6"
  }
 },
 "nbformat": 4,
 "nbformat_minor": 5
}

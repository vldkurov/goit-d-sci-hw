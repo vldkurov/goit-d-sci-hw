{
 "cells": [
  {
   "cell_type": "code",
   "execution_count": 32,
   "id": "initial_id",
   "metadata": {
    "collapsed": true,
    "ExecuteTime": {
     "end_time": "2023-12-10T17:31:01.808897Z",
     "start_time": "2023-12-10T17:31:01.788064Z"
    }
   },
   "outputs": [],
   "source": [
    "from surprise import SVD\n",
    "from surprise import Dataset\n",
    "from surprise.model_selection import GridSearchCV"
   ]
  },
  {
   "cell_type": "code",
   "execution_count": 33,
   "outputs": [],
   "source": [
    "# Load the movielens-100k dataset\n",
    "data = Dataset.load_builtin('ml-100k')"
   ],
   "metadata": {
    "collapsed": false,
    "ExecuteTime": {
     "end_time": "2023-12-10T17:31:01.874659Z",
     "start_time": "2023-12-10T17:31:01.810985Z"
    }
   },
   "id": "323a80de0d0bc5f0"
  },
  {
   "cell_type": "markdown",
   "source": [
    "## SVD"
   ],
   "metadata": {
    "collapsed": false
   },
   "id": "93469955224bb6d4"
  },
  {
   "cell_type": "code",
   "execution_count": 34,
   "outputs": [],
   "source": [
    "# Define the parameter grid\n",
    "param_grid = {'n_epochs': [10, 20], 'lr_all': [0.002, 0.005], 'reg_all': [0.4, 0.6]}"
   ],
   "metadata": {
    "collapsed": false,
    "ExecuteTime": {
     "end_time": "2023-12-10T17:31:01.878104Z",
     "start_time": "2023-12-10T17:31:01.875704Z"
    }
   },
   "id": "d8e360ecb39177bd"
  },
  {
   "cell_type": "code",
   "execution_count": 35,
   "outputs": [],
   "source": [
    "# Use the SVD algorithm\n",
    "gs = GridSearchCV(SVD, param_grid, measures=['rmse', 'mae'], cv=5)"
   ],
   "metadata": {
    "collapsed": false,
    "ExecuteTime": {
     "end_time": "2023-12-10T17:31:01.881037Z",
     "start_time": "2023-12-10T17:31:01.878687Z"
    }
   },
   "id": "d0dbd147d90312a8"
  },
  {
   "cell_type": "code",
   "execution_count": 36,
   "outputs": [
    {
     "name": "stdout",
     "output_type": "stream",
     "text": [
      "0.956471756110922\n",
      "{'n_epochs': 20, 'lr_all': 0.005, 'reg_all': 0.4}\n"
     ]
    }
   ],
   "source": [
    "# Fit the grid search\n",
    "gs.fit(data)\n",
    "\n",
    "print(gs.best_score['rmse'])\n",
    "print(gs.best_params['rmse'])"
   ],
   "metadata": {
    "collapsed": false,
    "ExecuteTime": {
     "end_time": "2023-12-10T17:31:14.323351Z",
     "start_time": "2023-12-10T17:31:01.922587Z"
    }
   },
   "id": "7f1fa1bba4515018"
  },
  {
   "cell_type": "markdown",
   "source": [
    "### SVD Conclusion\n",
    "В данном случае мы решили настроить количество эпох (n_epochs), скорость обучения (lr_all) и термин регуляризации (reg_all), которые являются одними из наиболее важных параметров в SVD. Эффективность CV (перекрестной проверки) каждой комбинации измеряется с точки зрения RMSE (среднеквадратическая ошибка) и MAE (средняя абсолютная ошибка), общих показателей для оценки точности моделей прогнозирования.\n",
    "\n",
    "После запуска Cross Validation поиска по сетке (grid) сценарий возвращает лучший показатель RMSE и параметры, которые достигли этого показателя. Это наша оптимизированная модель SVD.\n",
    "\n",
    "P.S.\n",
    "The number of epochs (n_epochs) в контексте обучения модели машинного обучения означает, сколько раз алгоритм обучения будет работать со всем набором обучающих данных.\n",
    "Каждая эпоха представляет собой итерацию по всему набору данных (или его подмножеству), используемому во время обучения. Веса модели обновляются после каждой эпохи. Количество эпох — это гиперпараметр, который определяет, сколько раз алгоритм обучения будет работать со всем набором обучающих данных.\n",
    "\n",
    "The learning rate (lr_all) представляет собой гиперпараметр, определяющий степень обновления весов модели во время обучения. Это играет решающую роль в оптимизации модели во время обучения.\n",
    "\n",
    "The regularization term (reg_all) представляет собой гиперпараметр, используемый в контексте моделей машинного обучения для предотвращения переобучения.\n"
   ],
   "metadata": {
    "collapsed": false
   },
   "id": "56cd0ac318ef55cf"
  },
  {
   "cell_type": "markdown",
   "source": [
    "## SVD++"
   ],
   "metadata": {
    "collapsed": false
   },
   "id": "e0776bda74b7cc04"
  },
  {
   "cell_type": "code",
   "execution_count": 37,
   "outputs": [],
   "source": [
    "from surprise import SVDpp"
   ],
   "metadata": {
    "collapsed": false,
    "ExecuteTime": {
     "end_time": "2023-12-10T17:31:14.326961Z",
     "start_time": "2023-12-10T17:31:14.323611Z"
    }
   },
   "id": "22f6a4702412ee5e"
  },
  {
   "cell_type": "code",
   "execution_count": 38,
   "outputs": [],
   "source": [
    "# Use the SVD++ algorithm\n",
    "gs = GridSearchCV(SVDpp, param_grid, measures=['rmse', 'mae'], cv=5)"
   ],
   "metadata": {
    "collapsed": false,
    "ExecuteTime": {
     "end_time": "2023-12-10T17:31:14.327628Z",
     "start_time": "2023-12-10T17:31:14.325936Z"
    }
   },
   "id": "84b67bd4ffc26d22"
  },
  {
   "cell_type": "code",
   "execution_count": 39,
   "outputs": [],
   "source": [
    "# Fit the grid search\n",
    "gs.fit(data)"
   ],
   "metadata": {
    "collapsed": false,
    "ExecuteTime": {
     "end_time": "2023-12-10T17:34:47.246150Z",
     "start_time": "2023-12-10T17:31:14.327654Z"
    }
   },
   "id": "ac6310557a2b2785"
  },
  {
   "cell_type": "code",
   "execution_count": 40,
   "outputs": [
    {
     "name": "stdout",
     "output_type": "stream",
     "text": [
      "Best RMSE Score:  0.9566947456030036\n",
      "Parameter setting that gave the best RMSE score:  {'n_epochs': 20, 'lr_all': 0.005, 'reg_all': 0.4}\n"
     ]
    }
   ],
   "source": [
    "# Best RMSE score\n",
    "print(\"Best RMSE Score: \", gs.best_score['rmse'])\n",
    "# Combination of parameters that gave the best RMSE score\n",
    "print(\"Parameter setting that gave the best RMSE score: \", gs.best_params['rmse'])"
   ],
   "metadata": {
    "collapsed": false,
    "ExecuteTime": {
     "end_time": "2023-12-10T17:34:47.260305Z",
     "start_time": "2023-12-10T17:34:47.246361Z"
    }
   },
   "id": "1be98f9281b8c3af"
  },
  {
   "cell_type": "markdown",
   "source": [
    "### SVD++ Conclusion\n",
    "SVD++ расширяет исходный алгоритм SVD, принимая во внимание неявную обратную связь от пользователей, что может привести к повышению точности, особенно когда явная обратная связь (рейтинги) немногочисленна.\n",
    "\n",
    "Алгоритм SVD++ требует больших вычислительных ресурсов по сравнению с обычным SVD, следовательно, для него может потребоваться больше времени и ресурсов вычислений, особенно с большими наборами данных. Тем не менее, повышение точности прогнозирования может сделать этот компромисс целесообразным в определенных сценариях применения."
   ],
   "metadata": {
    "collapsed": false
   },
   "id": "55d74a6af896c97b"
  },
  {
   "cell_type": "markdown",
   "source": [
    "## NMF"
   ],
   "metadata": {
    "collapsed": false
   },
   "id": "eec74242d306a3e7"
  },
  {
   "cell_type": "code",
   "execution_count": 41,
   "outputs": [],
   "source": [
    "from surprise import NMF"
   ],
   "metadata": {
    "collapsed": false,
    "ExecuteTime": {
     "end_time": "2023-12-10T17:34:47.260757Z",
     "start_time": "2023-12-10T17:34:47.249740Z"
    }
   },
   "id": "d7c710a232a135d7"
  },
  {
   "cell_type": "code",
   "execution_count": 42,
   "outputs": [],
   "source": [
    "# Define the parameter grid\n",
    "param_grid = {'n_epochs': [10, 50], 'n_factors': [10, 100]}"
   ],
   "metadata": {
    "collapsed": false,
    "ExecuteTime": {
     "end_time": "2023-12-10T17:34:47.261110Z",
     "start_time": "2023-12-10T17:34:47.251680Z"
    }
   },
   "id": "3b68df3634b92c9d"
  },
  {
   "cell_type": "code",
   "execution_count": 43,
   "outputs": [],
   "source": [
    "# Use the NMF algorithm\n",
    "gs = GridSearchCV(NMF, param_grid, measures=['rmse', 'mae'], cv=5)"
   ],
   "metadata": {
    "collapsed": false,
    "ExecuteTime": {
     "end_time": "2023-12-10T17:34:47.261373Z",
     "start_time": "2023-12-10T17:34:47.253316Z"
    }
   },
   "id": "e538bfd157f982e1"
  },
  {
   "cell_type": "code",
   "execution_count": 44,
   "outputs": [],
   "source": [
    "# Fit the grid search\n",
    "gs.fit(data)"
   ],
   "metadata": {
    "collapsed": false,
    "ExecuteTime": {
     "end_time": "2023-12-10T17:34:57.502590Z",
     "start_time": "2023-12-10T17:34:47.285307Z"
    }
   },
   "id": "5e4fbb56b46824fb"
  },
  {
   "cell_type": "code",
   "execution_count": 45,
   "outputs": [
    {
     "name": "stdout",
     "output_type": "stream",
     "text": [
      "Best RMSE Score:  0.9764601911332296\n",
      "Parameter setting that gave the best RMSE score:  {'n_epochs': 50, 'n_factors': 10}\n"
     ]
    }
   ],
   "source": [
    "# Print best RMSE score\n",
    "print(\"Best RMSE Score: \", gs.best_score['rmse'])\n",
    "# Combination of parameters that gave the best RMSE score\n",
    "print(\"Parameter setting that gave the best RMSE score: \", gs.best_params['rmse'])"
   ],
   "metadata": {
    "collapsed": false,
    "ExecuteTime": {
     "end_time": "2023-12-10T17:34:57.507326Z",
     "start_time": "2023-12-10T17:34:57.504571Z"
    }
   },
   "id": "7e1db9648c1c8951"
  },
  {
   "cell_type": "markdown",
   "source": [
    "### NMF Conclusion\n",
    "NMF, в отличие от SVD и SVD++, накладывает ограничение неотрицательности, что приводит к представлению данных на основе частей.\n",
    "\n",
    "По завершении поиска по сетке мы смогли определить комбинацию n_epochs и n_factors, которая минимизировала RMSE, что привело к наиболее точным прогнозам с заданными данными.\n",
    "\n",
    "P.S.\n",
    "Параметр n_factors указывает количество скрытых факторов, которые алгоритм попытается вычислить. Проще говоря, он определяет уровень детализации функций, которые алгоритм узнает из данных.\n",
    "\n",
    "Matrix factorization methods работают путем разложения исходной матрицы взаимодействия пользователя и элемента на две матрицы «факторов» меньшей размерности. Эти факторы представляют собой латентные или скрытые особенности данных. Например, в контексте фильмов это могут быть такие жанры, как «боевик», «комедия», «драма» или «научная фантастика».\n",
    "\n",
    "Поиск подходящего значения n_factors — это баланс между сложностью модели и способностью изучать основные закономерности в данных.\n"
   ],
   "metadata": {
    "collapsed": false
   },
   "id": "2fd1b75ab4fc19b3"
  },
  {
   "cell_type": "markdown",
   "source": [
    "## Conclusion\n",
    "RMSE (среднеквадратическая ошибка) — это мера различий между значениями, предсказанными моделью, и фактическими значениями. Более низкое RMSE указывает на лучшее соответствие модели данным.\n",
    "\n",
    "В нашем случае SVD++ имеет самое низкое среднеквадратическое отклонение из трех моделей и, следовательно, лучше всего работает с нашими данными, согласно этому показателю.\n",
    "\n",
    "И SVD, и SVD++ имеют очень похожие RMSE и гиперпараметры, что указывает на то, что они одинаково работают с нашим набором данных. Небольшое преимущество SVD++ может быть связано с учетом неявных рейтингов в данных.\n",
    "\n",
    "С другой стороны, NMF имеет более высокое RMSE по сравнению с SVD и SVD++. Большее количество эпох и факторов, использованных для NMF, возможно, привело к созданию более сложной модели, которая не обязательно улучшила уровень ошибок, что указывает на потенциальное переобучение.\n",
    "\n",
    "В заключение, согласно оценкам RMSE, SVD++ является наиболее эффективной моделью из трех для нашего конкретного набора данных и проблемы."
   ],
   "metadata": {
    "collapsed": false
   },
   "id": "d6d02ca849fcc3ea"
  }
 ],
 "metadata": {
  "kernelspec": {
   "display_name": "Python 3",
   "language": "python",
   "name": "python3"
  },
  "language_info": {
   "codemirror_mode": {
    "name": "ipython",
    "version": 2
   },
   "file_extension": ".py",
   "mimetype": "text/x-python",
   "name": "python",
   "nbconvert_exporter": "python",
   "pygments_lexer": "ipython2",
   "version": "2.7.6"
  }
 },
 "nbformat": 4,
 "nbformat_minor": 5
}
